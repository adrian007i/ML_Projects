{
  "cells": [
    {
      "cell_type": "markdown",
      "metadata": {
        "id": "ku-A83fqguZd"
      },
      "source": [
        "# Handwritten Digits Recognition Classification Using Convolutional Neural Network\n",
        "\n",
        "**Objective**\n",
        "\n",
        "This project aims to classify hand written digits into 10 categories ranging from 0 to 9.\n",
        "\n",
        "**Method**\n",
        "\n",
        "\n",
        "1. Install the necessary python packages.  For this model, we utilized pytorch to implement the neural network.\n",
        "\n",
        "2. Data was imported and examined.  Analysis was conducted to understand the features and classes.  We reconstructed the original image to gain a visual understanding of the data.  Overall, the data was balanced among all classes and there were no missing values.\n",
        "\n",
        "3. We normalized the dataset to ensure that all features have a standard scale. Since training in a neural network can be time-consuming, normalization can also help to speed up the training process.\n",
        "\n",
        "4. Since we are going to be performing K-Fold cross validation, we define reusable functions to configure and evaluate the model.  This makes the training code much more readable.\n",
        "\n",
        "5. Since we are using pytorch, we converted the data into pytorch tensors.\n",
        "\n",
        "6. The model training begins across N folds.  During each iteration, the data in that fold is trained and evaluated.\n",
        "\n",
        "7. The evaluation metrics were analyzed to ensure the model is performing correctly, averaging over a 96% accuracy each time and similar performance on F1 and Precision scores.  A confusion matrix was also implemented to further analyze the results of the model’s performance.\n"
      ]
    },
    {
      "cell_type": "markdown",
      "metadata": {
        "id": "5CjXImBlvv1N"
      },
      "source": [
        "**Dependencies - Install**"
      ]
    },
    {
      "cell_type": "code",
      "execution_count": null,
      "metadata": {
        "colab": {
          "base_uri": "https://localhost:8080/"
        },
        "id": "kza5B5CevdM_",
        "outputId": "cb15306f-1d14-4ca9-a556-fbb1265b99c8"
      },
      "outputs": [
        {
          "name": "stdout",
          "output_type": "stream",
          "text": [
            "Begin Install Dependencies\n",
            "End Install Dependencies\n"
          ]
        }
      ],
      "source": [
        "print(\"Begin Install Dependencies\")\n",
        "!pip install -q torch\n",
        "!pip install -q torchvision\n",
        "!pip install -q torchmetrics\n",
        "!pip install -q numpy\n",
        "!pip install -q pandas\n",
        "!pip install -q seaborn\n",
        "!pip install -q matplotlib\n",
        "!pip install -q ucimlrepo\n",
        "\n",
        "print(\"End Install Dependencies\")"
      ]
    },
    {
      "cell_type": "markdown",
      "metadata": {
        "id": "9HMT5ZpHv73D"
      },
      "source": [
        "**Dependencies - Import**"
      ]
    },
    {
      "cell_type": "code",
      "execution_count": null,
      "metadata": {
        "id": "wyeG9tahwDX3"
      },
      "outputs": [],
      "source": [
        "import torch\n",
        "import torch.nn as nn\n",
        "import pandas as pd\n",
        "import torchmetrics\n",
        "from sklearn.datasets import load_digits\n",
        "from sklearn.preprocessing import StandardScaler\n",
        "from sklearn.model_selection import train_test_split\n",
        "import torch.optim as optim\n",
        "from torchvision import datasets, transforms\n",
        "from torch.utils.data import DataLoader, Subset, TensorDataset\n",
        "import matplotlib.pyplot as plt\n",
        "from ucimlrepo import fetch_ucirepo\n",
        "import torch.nn.functional as F\n",
        "import seaborn as sns\n",
        "import numpy as np\n",
        "from sklearn.model_selection import KFold"
      ]
    },
    {
      "cell_type": "markdown",
      "metadata": {
        "id": "yMOGDm6zwpD8"
      },
      "source": [
        "**Dataloading**\n",
        "\n",
        "The dataset consist of 5620, samples."
      ]
    },
    {
      "cell_type": "code",
      "execution_count": null,
      "metadata": {
        "id": "2NY8BhOhrZ-_"
      },
      "outputs": [],
      "source": [
        "writing = fetch_ucirepo(id=80)"
      ]
    },
    {
      "cell_type": "markdown",
      "metadata": {
        "id": "HQdNKtyzrjkt"
      },
      "source": [
        "**Analysis**\n",
        "\n",
        "Here we can see each class between 0-9 has a fairly equal number of sample, this means it is not necessary to perform any balancing on the dataset."
      ]
    },
    {
      "cell_type": "code",
      "execution_count": null,
      "metadata": {
        "colab": {
          "base_uri": "https://localhost:8080/",
          "height": 452
        },
        "id": "h4OvoSSZri9l",
        "outputId": "6d0ad336-8929-4349-d03f-8e68d6f667ed"
      },
      "outputs": [
        {
          "data": {
            "image/png": "[encoded data removed]",
            "text/plain": [
              "<Figure size 640x480 with 1 Axes>"
            ]
          },
          "metadata": {},
          "output_type": "display_data"
        }
      ],
      "source": [
        "ax = writing.data.targets['class'].plot(kind='hist', bins=20)\n",
        "\n",
        "# Show all values on the x-axis\n",
        "plt.xticks(range(int(writing.data.targets ['class'].min()), int(writing.data.targets ['class'].max()) + 1))\n",
        "\n",
        "# Remove top and right bars\n",
        "ax.spines['top'].set_visible(False)\n",
        "ax.spines['right'].set_visible(False)\n",
        "\n",
        "# Draw\n",
        "for rect in ax.patches:\n",
        "    height = rect.get_height()\n",
        "    # There are 20 bins but we are only outputting 10 values so the other cells work as a\n",
        "    # pad, otherwise matplot smashes them together, only annotate if there is a height\n",
        "    if height>0:\n",
        "      ax.annotate(f'{height:.0f}', xy=(rect.get_x() + rect.get_width() / 2, height),\n",
        "                xytext=(0, 3), textcoords=\"offset points\", ha='center', va='bottom')\n",
        "\n",
        "plt.title('Frequency of Classes')\n",
        "plt.show()"
      ]
    },
    {
      "cell_type": "markdown",
      "metadata": {
        "id": "63kqa9Wfrt3P"
      },
      "source": [
        "**Analysis**\n",
        "\n",
        "Each sample contains 64 features.\n",
        "\n",
        "Each feature value ranges from 0 to 16 which represents the sum of positive pixels for each block in the original image."
      ]
    },
    {
      "cell_type": "code",
      "execution_count": null,
      "metadata": {
        "colab": {
          "base_uri": "https://localhost:8080/",
          "height": 412
        },
        "id": "xbDrzXC-rwxX",
        "outputId": "4acb1212-2788-47cb-c24b-70394cdd30e6"
      },
      "outputs": [
        {
          "data": {
            "application/vnd.google.colaboratory.intrinsic+json": {
              "type": "dataframe",
              "variable_name": "X"
            },
            "text/html": [
              "\n",
              "  <div id=\"df-157d2a56-dda6-489b-b4ab-739488d78fd4\" class=\"colab-df-container\">\n",
              "    <div>\n",
              "<style scoped>\n",
              "    .dataframe tbody tr th:only-of-type {\n",
              "        vertical-align: middle;\n",
              "    }\n",
              "\n",
              "    .dataframe tbody tr th {\n",
              "        vertical-align: top;\n",
              "    }\n",
              "\n",
              "    .dataframe thead th {\n",
              "        text-align: right;\n",
              "    }\n",
              "</style>\n",
              "<table border=\"1\" class=\"dataframe\">\n",
              "  <thead>\n",
              "    <tr style=\"text-align: right;\">\n",
              "      <th></th>\n",
              "      <th>Attribute1</th>\n",
              "      <th>Attribute2</th>\n",
              "      <th>Attribute3</th>\n",
              "      <th>Attribute4</th>\n",
              "      <th>Attribute5</th>\n",
              "      <th>Attribute6</th>\n",
              "      <th>Attribute7</th>\n",
              "      <th>Attribute8</th>\n",
              "      <th>Attribute9</th>\n",
              "      <th>Attribute10</th>\n",
              "      <th>...</th>\n",
              "      <th>Attribute55</th>\n",
              "      <th>Attribute56</th>\n",
              "      <th>Attribute57</th>\n",
              "      <th>Attribute58</th>\n",
              "      <th>Attribute59</th>\n",
              "      <th>Attribute60</th>\n",
              "      <th>Attribute61</th>\n",
              "      <th>Attribute62</th>\n",
              "      <th>Attribute63</th>\n",
              "      <th>Attribute64</th>\n",
              "    </tr>\n",
              "  </thead>\n",
              "  <tbody>\n",
              "    <tr>\n",
              "      <th>0</th>\n",
              "      <td>0</td>\n",
              "      <td>1</td>\n",
              "      <td>6</td>\n",
              "      <td>15</td>\n",
              "      <td>12</td>\n",
              "      <td>1</td>\n",
              "      <td>0</td>\n",
              "      <td>0</td>\n",
              "      <td>0</td>\n",
              "      <td>7</td>\n",
              "      <td>...</td>\n",
              "      <td>0</td>\n",
              "      <td>0</td>\n",
              "      <td>0</td>\n",
              "      <td>0</td>\n",
              "      <td>6</td>\n",
              "      <td>14</td>\n",
              "      <td>7</td>\n",
              "      <td>1</td>\n",
              "      <td>0</td>\n",
              "      <td>0</td>\n",
              "    </tr>\n",
              "    <tr>\n",
              "      <th>1</th>\n",
              "      <td>0</td>\n",
              "      <td>0</td>\n",
              "      <td>10</td>\n",
              "      <td>16</td>\n",
              "      <td>6</td>\n",
              "      <td>0</td>\n",
              "      <td>0</td>\n",
              "      <td>0</td>\n",
              "      <td>0</td>\n",
              "      <td>7</td>\n",
              "      <td>...</td>\n",
              "      <td>3</td>\n",
              "      <td>0</td>\n",
              "      <td>0</td>\n",
              "      <td>0</td>\n",
              "      <td>10</td>\n",
              "      <td>16</td>\n",
              "      <td>15</td>\n",
              "      <td>3</td>\n",
              "      <td>0</td>\n",
              "      <td>0</td>\n",
              "    </tr>\n",
              "    <tr>\n",
              "      <th>2</th>\n",
              "      <td>0</td>\n",
              "      <td>0</td>\n",
              "      <td>8</td>\n",
              "      <td>15</td>\n",
              "      <td>16</td>\n",
              "      <td>13</td>\n",
              "      <td>0</td>\n",
              "      <td>0</td>\n",
              "      <td>0</td>\n",
              "      <td>1</td>\n",
              "      <td>...</td>\n",
              "      <td>0</td>\n",
              "      <td>0</td>\n",
              "      <td>0</td>\n",
              "      <td>0</td>\n",
              "      <td>9</td>\n",
              "      <td>14</td>\n",
              "      <td>0</td>\n",
              "      <td>0</td>\n",
              "      <td>0</td>\n",
              "      <td>0</td>\n",
              "    </tr>\n",
              "    <tr>\n",
              "      <th>3</th>\n",
              "      <td>0</td>\n",
              "      <td>0</td>\n",
              "      <td>0</td>\n",
              "      <td>3</td>\n",
              "      <td>11</td>\n",
              "      <td>16</td>\n",
              "      <td>0</td>\n",
              "      <td>0</td>\n",
              "      <td>0</td>\n",
              "      <td>0</td>\n",
              "      <td>...</td>\n",
              "      <td>0</td>\n",
              "      <td>0</td>\n",
              "      <td>0</td>\n",
              "      <td>0</td>\n",
              "      <td>0</td>\n",
              "      <td>1</td>\n",
              "      <td>15</td>\n",
              "      <td>2</td>\n",
              "      <td>0</td>\n",
              "      <td>0</td>\n",
              "    </tr>\n",
              "    <tr>\n",
              "      <th>4</th>\n",
              "      <td>0</td>\n",
              "      <td>0</td>\n",
              "      <td>5</td>\n",
              "      <td>14</td>\n",
              "      <td>4</td>\n",
              "      <td>0</td>\n",
              "      <td>0</td>\n",
              "      <td>0</td>\n",
              "      <td>0</td>\n",
              "      <td>0</td>\n",
              "      <td>...</td>\n",
              "      <td>12</td>\n",
              "      <td>0</td>\n",
              "      <td>0</td>\n",
              "      <td>0</td>\n",
              "      <td>4</td>\n",
              "      <td>12</td>\n",
              "      <td>14</td>\n",
              "      <td>7</td>\n",
              "      <td>0</td>\n",
              "      <td>0</td>\n",
              "    </tr>\n",
              "    <tr>\n",
              "      <th>5</th>\n",
              "      <td>0</td>\n",
              "      <td>0</td>\n",
              "      <td>11</td>\n",
              "      <td>16</td>\n",
              "      <td>10</td>\n",
              "      <td>1</td>\n",
              "      <td>0</td>\n",
              "      <td>0</td>\n",
              "      <td>0</td>\n",
              "      <td>4</td>\n",
              "      <td>...</td>\n",
              "      <td>8</td>\n",
              "      <td>3</td>\n",
              "      <td>0</td>\n",
              "      <td>0</td>\n",
              "      <td>10</td>\n",
              "      <td>16</td>\n",
              "      <td>16</td>\n",
              "      <td>16</td>\n",
              "      <td>16</td>\n",
              "      <td>6</td>\n",
              "    </tr>\n",
              "    <tr>\n",
              "      <th>6</th>\n",
              "      <td>0</td>\n",
              "      <td>0</td>\n",
              "      <td>1</td>\n",
              "      <td>11</td>\n",
              "      <td>13</td>\n",
              "      <td>11</td>\n",
              "      <td>7</td>\n",
              "      <td>0</td>\n",
              "      <td>0</td>\n",
              "      <td>0</td>\n",
              "      <td>...</td>\n",
              "      <td>0</td>\n",
              "      <td>0</td>\n",
              "      <td>0</td>\n",
              "      <td>0</td>\n",
              "      <td>1</td>\n",
              "      <td>13</td>\n",
              "      <td>5</td>\n",
              "      <td>0</td>\n",
              "      <td>0</td>\n",
              "      <td>0</td>\n",
              "    </tr>\n",
              "    <tr>\n",
              "      <th>7</th>\n",
              "      <td>0</td>\n",
              "      <td>0</td>\n",
              "      <td>8</td>\n",
              "      <td>10</td>\n",
              "      <td>8</td>\n",
              "      <td>7</td>\n",
              "      <td>2</td>\n",
              "      <td>0</td>\n",
              "      <td>0</td>\n",
              "      <td>1</td>\n",
              "      <td>...</td>\n",
              "      <td>0</td>\n",
              "      <td>0</td>\n",
              "      <td>0</td>\n",
              "      <td>0</td>\n",
              "      <td>4</td>\n",
              "      <td>13</td>\n",
              "      <td>8</td>\n",
              "      <td>0</td>\n",
              "      <td>0</td>\n",
              "      <td>0</td>\n",
              "    </tr>\n",
              "    <tr>\n",
              "      <th>8</th>\n",
              "      <td>0</td>\n",
              "      <td>0</td>\n",
              "      <td>15</td>\n",
              "      <td>2</td>\n",
              "      <td>14</td>\n",
              "      <td>13</td>\n",
              "      <td>2</td>\n",
              "      <td>0</td>\n",
              "      <td>0</td>\n",
              "      <td>0</td>\n",
              "      <td>...</td>\n",
              "      <td>0</td>\n",
              "      <td>0</td>\n",
              "      <td>0</td>\n",
              "      <td>0</td>\n",
              "      <td>10</td>\n",
              "      <td>12</td>\n",
              "      <td>5</td>\n",
              "      <td>0</td>\n",
              "      <td>0</td>\n",
              "      <td>0</td>\n",
              "    </tr>\n",
              "    <tr>\n",
              "      <th>9</th>\n",
              "      <td>0</td>\n",
              "      <td>0</td>\n",
              "      <td>3</td>\n",
              "      <td>13</td>\n",
              "      <td>13</td>\n",
              "      <td>2</td>\n",
              "      <td>0</td>\n",
              "      <td>0</td>\n",
              "      <td>0</td>\n",
              "      <td>6</td>\n",
              "      <td>...</td>\n",
              "      <td>12</td>\n",
              "      <td>0</td>\n",
              "      <td>0</td>\n",
              "      <td>0</td>\n",
              "      <td>3</td>\n",
              "      <td>15</td>\n",
              "      <td>11</td>\n",
              "      <td>6</td>\n",
              "      <td>0</td>\n",
              "      <td>0</td>\n",
              "    </tr>\n",
              "  </tbody>\n",
              "</table>\n",
              "<p>10 rows × 64 columns</p>\n",
              "</div>\n",
              "    <div class=\"colab-df-buttons\">\n",
              "\n",
              "  <div class=\"colab-df-container\">\n",
              "    <button class=\"colab-df-convert\" onclick=\"convertToInteractive('df-157d2a56-dda6-489b-b4ab-739488d78fd4')\"\n",
              "            title=\"Convert this dataframe to an interactive table.\"\n",
              "            style=\"display:none;\">\n",
              "\n",
              "  <svg xmlns=\"http://www.w3.org/2000/svg\" height=\"24px\" viewBox=\"0 -960 960 960\">\n",
              "    <path d=\"M120-120v-720h720v720H120Zm60-500h600v-160H180v160Zm220 220h160v-160H400v160Zm0 220h160v-160H400v160ZM180-400h160v-160H180v160Zm440 0h160v-160H620v160ZM180-180h160v-160H180v160Zm440 0h160v-160H620v160Z\"/>\n",
              "  </svg>\n",
              "    </button>\n",
              "\n",
              "  <style>\n",
              "    .colab-df-container {\n",
              "      display:flex;\n",
              "      gap: 12px;\n",
              "    }\n",
              "\n",
              "    .colab-df-convert {\n",
              "      background-color: #E8F0FE;\n",
              "      border: none;\n",
              "      border-radius: 50%;\n",
              "      cursor: pointer;\n",
              "      display: none;\n",
              "      fill: #1967D2;\n",
              "      height: 32px;\n",
              "      padding: 0 0 0 0;\n",
              "      width: 32px;\n",
              "    }\n",
              "\n",
              "    .colab-df-convert:hover {\n",
              "      background-color: #E2EBFA;\n",
              "      box-shadow: 0px 1px 2px rgba(60, 64, 67, 0.3), 0px 1px 3px 1px rgba(60, 64, 67, 0.15);\n",
              "      fill: #174EA6;\n",
              "    }\n",
              "\n",
              "    .colab-df-buttons div {\n",
              "      margin-bottom: 4px;\n",
              "    }\n",
              "\n",
              "    [theme=dark] .colab-df-convert {\n",
              "      background-color: #3B4455;\n",
              "      fill: #D2E3FC;\n",
              "    }\n",
              "\n",
              "    [theme=dark] .colab-df-convert:hover {\n",
              "      background-color: #434B5C;\n",
              "      box-shadow: 0px 1px 3px 1px rgba(0, 0, 0, 0.15);\n",
              "      filter: drop-shadow(0px 1px 2px rgba(0, 0, 0, 0.3));\n",
              "      fill: #FFFFFF;\n",
              "    }\n",
              "  </style>\n",
              "\n",
              "    <script>\n",
              "      const buttonEl =\n",
              "        document.querySelector('#df-157d2a56-dda6-489b-b4ab-739488d78fd4 button.colab-df-convert');\n",
              "      buttonEl.style.display =\n",
              "        google.colab.kernel.accessAllowed ? 'block' : 'none';\n",
              "\n",
              "      async function convertToInteractive(key) {\n",
              "        const element = document.querySelector('#df-157d2a56-dda6-489b-b4ab-739488d78fd4');\n",
              "        const dataTable =\n",
              "          await google.colab.kernel.invokeFunction('convertToInteractive',\n",
              "                                                    [key], {});\n",
              "        if (!dataTable) return;\n",
              "\n",
              "        const docLinkHtml = 'Like what you see? Visit the ' +\n",
              "          '<a target=\"_blank\" href=https://colab.research.google.com/notebooks/data_table.ipynb>data table notebook</a>'\n",
              "          + ' to learn more about interactive tables.';\n",
              "        element.innerHTML = '';\n",
              "        dataTable['output_type'] = 'display_data';\n",
              "        await google.colab.output.renderOutput(dataTable, element);\n",
              "        const docLink = document.createElement('div');\n",
              "        docLink.innerHTML = docLinkHtml;\n",
              "        element.appendChild(docLink);\n",
              "      }\n",
              "    </script>\n",
              "  </div>\n",
              "\n",
              "\n",
              "<div id=\"df-c82339ff-0500-4e44-a8a2-900eb9d2a35d\">\n",
              "  <button class=\"colab-df-quickchart\" onclick=\"quickchart('df-c82339ff-0500-4e44-a8a2-900eb9d2a35d')\"\n",
              "            title=\"Suggest charts\"\n",
              "            style=\"display:none;\">\n",
              "\n",
              "<svg xmlns=\"http://www.w3.org/2000/svg\" height=\"24px\"viewBox=\"0 0 24 24\"\n",
              "     width=\"24px\">\n",
              "    <g>\n",
              "        <path d=\"M19 3H5c-1.1 0-2 .9-2 2v14c0 1.1.9 2 2 2h14c1.1 0 2-.9 2-2V5c0-1.1-.9-2-2-2zM9 17H7v-7h2v7zm4 0h-2V7h2v10zm4 0h-2v-4h2v4z\"/>\n",
              "    </g>\n",
              "</svg>\n",
              "  </button>\n",
              "\n",
              "<style>\n",
              "  .colab-df-quickchart {\n",
              "      --bg-color: #E8F0FE;\n",
              "      --fill-color: #1967D2;\n",
              "      --hover-bg-color: #E2EBFA;\n",
              "      --hover-fill-color: #174EA6;\n",
              "      --disabled-fill-color: #AAA;\n",
              "      --disabled-bg-color: #DDD;\n",
              "  }\n",
              "\n",
              "  [theme=dark] .colab-df-quickchart {\n",
              "      --bg-color: #3B4455;\n",
              "      --fill-color: #D2E3FC;\n",
              "      --hover-bg-color: #434B5C;\n",
              "      --hover-fill-color: #FFFFFF;\n",
              "      --disabled-bg-color: #3B4455;\n",
              "      --disabled-fill-color: #666;\n",
              "  }\n",
              "\n",
              "  .colab-df-quickchart {\n",
              "    background-color: var(--bg-color);\n",
              "    border: none;\n",
              "    border-radius: 50%;\n",
              "    cursor: pointer;\n",
              "    display: none;\n",
              "    fill: var(--fill-color);\n",
              "    height: 32px;\n",
              "    padding: 0;\n",
              "    width: 32px;\n",
              "  }\n",
              "\n",
              "  .colab-df-quickchart:hover {\n",
              "    background-color: var(--hover-bg-color);\n",
              "    box-shadow: 0 1px 2px rgba(60, 64, 67, 0.3), 0 1px 3px 1px rgba(60, 64, 67, 0.15);\n",
              "    fill: var(--button-hover-fill-color);\n",
              "  }\n",
              "\n",
              "  .colab-df-quickchart-complete:disabled,\n",
              "  .colab-df-quickchart-complete:disabled:hover {\n",
              "    background-color: var(--disabled-bg-color);\n",
              "    fill: var(--disabled-fill-color);\n",
              "    box-shadow: none;\n",
              "  }\n",
              "\n",
              "  .colab-df-spinner {\n",
              "    border: 2px solid var(--fill-color);\n",
              "    border-color: transparent;\n",
              "    border-bottom-color: var(--fill-color);\n",
              "    animation:\n",
              "      spin 1s steps(1) infinite;\n",
              "  }\n",
              "\n",
              "  @keyframes spin {\n",
              "    0% {\n",
              "      border-color: transparent;\n",
              "      border-bottom-color: var(--fill-color);\n",
              "      border-left-color: var(--fill-color);\n",
              "    }\n",
              "    20% {\n",
              "      border-color: transparent;\n",
              "      border-left-color: var(--fill-color);\n",
              "      border-top-color: var(--fill-color);\n",
              "    }\n",
              "    30% {\n",
              "      border-color: transparent;\n",
              "      border-left-color: var(--fill-color);\n",
              "      border-top-color: var(--fill-color);\n",
              "      border-right-color: var(--fill-color);\n",
              "    }\n",
              "    40% {\n",
              "      border-color: transparent;\n",
              "      border-right-color: var(--fill-color);\n",
              "      border-top-color: var(--fill-color);\n",
              "    }\n",
              "    60% {\n",
              "      border-color: transparent;\n",
              "      border-right-color: var(--fill-color);\n",
              "    }\n",
              "    80% {\n",
              "      border-color: transparent;\n",
              "      border-right-color: var(--fill-color);\n",
              "      border-bottom-color: var(--fill-color);\n",
              "    }\n",
              "    90% {\n",
              "      border-color: transparent;\n",
              "      border-bottom-color: var(--fill-color);\n",
              "    }\n",
              "  }\n",
              "</style>\n",
              "\n",
              "  <script>\n",
              "    async function quickchart(key) {\n",
              "      const quickchartButtonEl =\n",
              "        document.querySelector('#' + key + ' button');\n",
              "      quickchartButtonEl.disabled = true;  // To prevent multiple clicks.\n",
              "      quickchartButtonEl.classList.add('colab-df-spinner');\n",
              "      try {\n",
              "        const charts = await google.colab.kernel.invokeFunction(\n",
              "            'suggestCharts', [key], {});\n",
              "      } catch (error) {\n",
              "        console.error('Error during call to suggestCharts:', error);\n",
              "      }\n",
              "      quickchartButtonEl.classList.remove('colab-df-spinner');\n",
              "      quickchartButtonEl.classList.add('colab-df-quickchart-complete');\n",
              "    }\n",
              "    (() => {\n",
              "      let quickchartButtonEl =\n",
              "        document.querySelector('#df-c82339ff-0500-4e44-a8a2-900eb9d2a35d button');\n",
              "      quickchartButtonEl.style.display =\n",
              "        google.colab.kernel.accessAllowed ? 'block' : 'none';\n",
              "    })();\n",
              "  </script>\n",
              "</div>\n",
              "\n",
              "    </div>\n",
              "  </div>\n"
            ],
            "text/plain": [
              "   Attribute1  Attribute2  Attribute3  Attribute4  Attribute5  Attribute6  \\\n",
              "0           0           1           6          15          12           1   \n",
              "1           0           0          10          16           6           0   \n",
              "2           0           0           8          15          16          13   \n",
              "3           0           0           0           3          11          16   \n",
              "4           0           0           5          14           4           0   \n",
              "5           0           0          11          16          10           1   \n",
              "6           0           0           1          11          13          11   \n",
              "7           0           0           8          10           8           7   \n",
              "8           0           0          15           2          14          13   \n",
              "9           0           0           3          13          13           2   \n",
              "\n",
              "   Attribute7  Attribute8  Attribute9  Attribute10  ...  Attribute55  \\\n",
              "0           0           0           0            7  ...            0   \n",
              "1           0           0           0            7  ...            3   \n",
              "2           0           0           0            1  ...            0   \n",
              "3           0           0           0            0  ...            0   \n",
              "4           0           0           0            0  ...           12   \n",
              "5           0           0           0            4  ...            8   \n",
              "6           7           0           0            0  ...            0   \n",
              "7           2           0           0            1  ...            0   \n",
              "8           2           0           0            0  ...            0   \n",
              "9           0           0           0            6  ...           12   \n",
              "\n",
              "   Attribute56  Attribute57  Attribute58  Attribute59  Attribute60  \\\n",
              "0            0            0            0            6           14   \n",
              "1            0            0            0           10           16   \n",
              "2            0            0            0            9           14   \n",
              "3            0            0            0            0            1   \n",
              "4            0            0            0            4           12   \n",
              "5            3            0            0           10           16   \n",
              "6            0            0            0            1           13   \n",
              "7            0            0            0            4           13   \n",
              "8            0            0            0           10           12   \n",
              "9            0            0            0            3           15   \n",
              "\n",
              "   Attribute61  Attribute62  Attribute63  Attribute64  \n",
              "0            7            1            0            0  \n",
              "1           15            3            0            0  \n",
              "2            0            0            0            0  \n",
              "3           15            2            0            0  \n",
              "4           14            7            0            0  \n",
              "5           16           16           16            6  \n",
              "6            5            0            0            0  \n",
              "7            8            0            0            0  \n",
              "8            5            0            0            0  \n",
              "9           11            6            0            0  \n",
              "\n",
              "[10 rows x 64 columns]"
            ]
          },
          "execution_count": 26,
          "metadata": {},
          "output_type": "execute_result"
        }
      ],
      "source": [
        "X = writing.data.features\n",
        "y = writing.data.targets\n",
        "X.head(10)"
      ]
    },
    {
      "cell_type": "markdown",
      "metadata": {
        "id": "AxAlvyQ3r7GT"
      },
      "source": [
        "The 64 features can be represented as an 8x8 square matrix."
      ]
    },
    {
      "cell_type": "code",
      "execution_count": null,
      "metadata": {
        "colab": {
          "base_uri": "https://localhost:8080/",
          "height": 604
        },
        "id": "3A_8hhwPr6wH",
        "outputId": "470ef1b5-b978-484d-d98d-60bc4884dc9f"
      },
      "outputs": [
        {
          "name": "stdout",
          "output_type": "stream",
          "text": [
            "[[ 0  1  6 15 12  1  0  0]\n",
            " [ 0  7 16  6  6 10  0  0]\n",
            " [ 0  8 16  2  0 11  2  0]\n",
            " [ 0  5 16  3  0  5  7  0]\n",
            " [ 0  7 13  3  0  8  7  0]\n",
            " [ 0  4 12  0  1 13  5  0]\n",
            " [ 0  0 14  9 15  9  0  0]\n",
            " [ 0  0  6 14  7  1  0  0]]\n",
            "\n",
            " Showing image for the first sample that has been classified as 0\n"
          ]
        },
        {
          "data": {
            "image/png": "[encoded data removed]",
            "text/plain": [
              "<Figure size 640x480 with 1 Axes>"
            ]
          },
          "metadata": {},
          "output_type": "display_data"
        }
      ],
      "source": [
        "X_reshaped = X.values[:10].reshape(-1, 8, 8)\n",
        "\n",
        "print(X_reshaped[0])\n",
        "print(\"\\n Showing image for the first sample that has been classified as 0\")\n",
        "\n",
        "plt.imshow(X_reshaped[0], cmap='gray_r')\n",
        "plt.show()"
      ]
    },
    {
      "cell_type": "code",
      "execution_count": null,
      "metadata": {
        "colab": {
          "base_uri": "https://localhost:8080/",
          "height": 95
        },
        "id": "QJXERvOCsIaX",
        "outputId": "b516dce8-bf5f-4065-9b2a-bc50805aff51"
      },
      "outputs": [
        {
          "data": {
            "image/png": "[encoded data removed]",
            "text/plain": [
              "<Figure size 1000x150 with 10 Axes>"
            ]
          },
          "metadata": {},
          "output_type": "display_data"
        }
      ],
      "source": [
        "ig, axes = plt.subplots(1, 10 , figsize = (10,1.5))\n",
        "\n",
        "for i, ax in enumerate(axes):\n",
        "    ax.imshow(X_reshaped[i], cmap='gray_r')\n",
        "    ax.axis('off')\n",
        "\n",
        "plt.show()"
      ]
    },
    {
      "cell_type": "markdown",
      "metadata": {
        "id": "_lCJBmtQPqX_"
      },
      "source": [
        "**Normalize features**"
      ]
    },
    {
      "cell_type": "code",
      "execution_count": null,
      "metadata": {
        "colab": {
          "base_uri": "https://localhost:8080/"
        },
        "id": "Mo0a-u3sPrfX",
        "outputId": "fc455398-4d62-45eb-d523-eb4362b71966"
      },
      "outputs": [
        {
          "name": "stdout",
          "output_type": "stream",
          "text": [
            "Normalized Sample\n"
          ]
        },
        {
          "data": {
            "text/plain": [
              "array([ 0.        ,  0.79313327,  0.12986348,  0.74831744,  0.09450787,\n",
              "       -0.81585144, -0.41097194, -0.13206188, -0.03542401,  1.62296632,\n",
              "        1.00999062, -1.44911936, -0.94280989,  0.29178646, -0.53252006,\n",
              "       -0.1466391 , -0.04069176,  1.5466172 ,  1.08427078, -0.8190465 ,\n",
              "       -1.16349493,  0.48375442,  0.01042016, -0.11335335, -0.03269184,\n",
              "        0.84415735,  1.10740032, -1.02318838, -1.56286359, -0.46403448,\n",
              "        1.2807267 , -0.04777844, -0.02984078,  1.47241212,  0.85010099,\n",
              "       -0.99520444, -1.74442775, -0.17931693,  1.16744553,  0.        ,\n",
              "       -0.07872062,  0.86007938,  0.82966502, -1.11476112, -1.08631271,\n",
              "        0.77341948,  0.34592509, -0.08987191, -0.0576035 , -0.40589805,\n",
              "        1.10346414, -0.1498682 ,  1.0064432 , -0.019331  , -0.76183046,\n",
              "       -0.19789895, -0.01886792, -0.30310217,  0.04770289,  0.46244502,\n",
              "       -0.9190364 , -0.98379588, -0.51724355, -0.1791362 ])"
            ]
          },
          "execution_count": 29,
          "metadata": {},
          "output_type": "execute_result"
        }
      ],
      "source": [
        "scaler = StandardScaler()\n",
        "X_scaled = scaler.fit_transform(X)\n",
        "\n",
        "print(\"Normalized Sample\")\n",
        "X_scaled[0]"
      ]
    },
    {
      "cell_type": "markdown",
      "metadata": {
        "id": "MenMfK8Mwo9v"
      },
      "source": [
        "**CNN Configurations**\n",
        "\n",
        "Define the model with options defined in the specification see comments for specifics on each point. Additional detail on several points\n",
        "\n",
        "MaxPooling:\n",
        "\n",
        "We use a 2x2 matrix so that it looks at each chunk of 2x2 pixels and moves 2 pixels at a time for downsampling\n",
        "\n",
        "We fully connect the layers and apply a soft max function as well, see comments for other functions applied.\n",
        "\n"
      ]
    },
    {
      "cell_type": "code",
      "execution_count": null,
      "metadata": {
        "id": "noK305E0xdQP"
      },
      "outputs": [],
      "source": [
        "def configure_model():\n",
        "  model = nn.Sequential(\n",
        "      # Layer one of the model with 1 in channel and 32 outputs for layer 2 and defines\n",
        "      # The kernel as a 3x3 matrix\n",
        "      nn.Conv2d(1, 32, kernel_size=3, stride=1, padding=1),\n",
        "      # The activation function as required by the writeup\n",
        "      nn.ReLU(),\n",
        "\n",
        "      # Start layer 2, 32 inputs, 64 outputs same kernel size\n",
        "      nn.Conv2d(32, 64, kernel_size=3, stride=1, padding=1),\n",
        "      # Same activation\n",
        "      nn.ReLU(),\n",
        "\n",
        "      # start layer 3 starting with max pooling\n",
        "      nn.MaxPool2d(2, 2),\n",
        "      # Dropout to try to prevent overfitting\n",
        "      nn.Dropout(0.5),\n",
        "      # Flatten from 2 d to 1 d\n",
        "      nn.Flatten(),\n",
        "      # Fully contected, taking in 1024 inputs and outputting 128\n",
        "      nn.Linear(1024, 128),\n",
        "      nn.ReLU(),\n",
        "      # Drop it out again to fight overfitting\n",
        "      nn.Dropout(0.5),\n",
        "      # Reducing to 10 out features\n",
        "      nn.Linear(128, 10),\n",
        "      # Softmax as required in the writeup\n",
        "      nn.LogSoftmax(dim=1)\n",
        "  )\n",
        "\n",
        "  return model\n"
      ]
    },
    {
      "cell_type": "markdown",
      "metadata": {
        "id": "pCxewrAyxal7"
      },
      "source": [
        "Weight initialization for model, ensuring that convolutional layers are initialized with Kaiming uniform and linear layers"
      ]
    },
    {
      "cell_type": "code",
      "execution_count": null,
      "metadata": {
        "id": "jGltLUSg6xtB"
      },
      "outputs": [],
      "source": [
        "def init_weights(m):\n",
        "    if isinstance(m, nn.Conv2d):\n",
        "        nn.init.kaiming_uniform_(m.weight, nonlinearity='relu')\n",
        "    elif isinstance(m, nn.Linear):\n",
        "        nn.init.xavier_uniform_(m.weight)"
      ]
    },
    {
      "cell_type": "markdown",
      "metadata": {
        "id": "1zqajbTJi2gL"
      },
      "source": [
        "**evaluate_model** will return an array of loss, correct prediction, test dataset size and confusion matrix for each fold\n"
      ]
    },
    {
      "cell_type": "code",
      "execution_count": null,
      "metadata": {
        "id": "Wa5px_-yAcMh"
      },
      "outputs": [],
      "source": [
        "def evaluate_model(model):\n",
        "  model.eval()\n",
        "  test_loss = 0\n",
        "  correct = 0\n",
        "  confusion_matrix = None\n",
        "  loss_curve = []\n",
        "  matrix = torchmetrics.ConfusionMatrix(task=\"multiclass\",num_classes=10)\n",
        "  with torch.no_grad():\n",
        "      for data, target in testloader:\n",
        "          output = model(data)\n",
        "          # Convert logits to probabilities\n",
        "          probabilities = F.softmax(output, dim=1)\n",
        "          test_loss += nn.functional.nll_loss(output, target, reduction='sum').item()\n",
        "          loss_curve.append(loss.item())\n",
        "          pred = output.argmax(dim=1, keepdim=False)\n",
        "          correct += pred.eq(target).sum().item()\n",
        "          # Update confusion matrix with probabilities or class indices\n",
        "          matrix.update(pred, target)\n",
        "      confusion_matrix = matrix.compute()\n",
        "      test_loss /= len(testloader.dataset)\n",
        "\n",
        "  return [test_loss, correct, len(testloader.dataset), confusion_matrix, loss_curve]"
      ]
    },
    {
      "cell_type": "code",
      "execution_count": null,
      "metadata": {
        "id": "gF2O3lYBtSOj"
      },
      "outputs": [],
      "source": [
        "# Convert to PyTorch tensors\n",
        "X_tensor = torch.tensor(X_scaled, dtype=torch.float32)\n",
        "y_ravel = y.values.ravel()\n",
        "y_tensor = torch.tensor(y_ravel, dtype=torch.int64)\n"
      ]
    },
    {
      "cell_type": "markdown",
      "metadata": {
        "id": "OeNqW5cX-N1U"
      },
      "source": [
        "**Training the Model**"
      ]
    },
    {
      "cell_type": "code",
      "execution_count": null,
      "metadata": {
        "id": "rdLrUEAw9Sxe"
      },
      "outputs": [],
      "source": [
        "kf = KFold(n_splits=4, shuffle=True, random_state=30)\n",
        "\n",
        "learning_rates = []\n",
        "\n",
        "# sum the data returned by each fold\n",
        "total = {\n",
        "    \"loss\" : 0,\n",
        "    \"correct\" : 0,\n",
        "    \"dataset\":0,\n",
        "    \"confusion_matrix\": 0*64,\n",
        "    \"loss_curve_data\": []\n",
        "\n",
        "}\n",
        "\n",
        "for fold, (train_index, test_index) in enumerate(kf.split(X_tensor)):\n",
        "\n",
        "    # Split the data into training and test sets for this fold\n",
        "    X_train, X_test = X_tensor[train_index], X_tensor[test_index]\n",
        "    y_train, y_test = y_tensor[train_index], y_tensor[test_index]\n",
        "\n",
        "    # Reshape the data\n",
        "    X_train = X_train.view(-1, 1, 8, 8)\n",
        "    X_test = X_test.view(-1, 1, 8, 8)\n",
        "\n",
        "    # Create TensorDatasets\n",
        "    train_dataset = TensorDataset(X_train, y_train)\n",
        "    test_dataset = TensorDataset(X_test, y_test)\n",
        "\n",
        "    # DataLoader\n",
        "    trainloader = DataLoader(train_dataset, batch_size=64, shuffle=True)\n",
        "    testloader = DataLoader(test_dataset, batch_size=64, shuffle=False)\n",
        "\n",
        "    model = configure_model()\n",
        "    model.apply(init_weights)\n",
        "\n",
        "    optimizer = optim.Adam(model.parameters(), lr=0.001)\n",
        "    scheduler = optim.lr_scheduler.StepLR(optimizer, step_size=1, gamma=0.7)\n",
        "\n",
        "    model.train()\n",
        "    loss_curve_epochs=list()\n",
        "    # Train the model over 10 epochs\n",
        "    for epoch in range(10):\n",
        "        lossForAllBatch = 0\n",
        "        for batch_idx, (data, target) in enumerate(trainloader):\n",
        "            optimizer.zero_grad()\n",
        "            output = model(data)\n",
        "            loss = nn.functional.nll_loss(output, target)\n",
        "            loss.backward()\n",
        "            lossForAllBatch+=loss.item()\n",
        "            optimizer.step()\n",
        "        scheduler.step()\n",
        "        loss_curve_epochs.append(lossForAllBatch/len(trainloader))\n",
        "    # Append the learning rate for this fold\n",
        "    learning_rates.append(scheduler.get_last_lr()[0])\n",
        "\n",
        "    # store the results\n",
        "    result = evaluate_model(model)\n",
        "    total[\"loss\"] += result[0]\n",
        "    total[\"correct\"]  += result[1]\n",
        "    total[\"dataset\"]  += result[2]\n",
        "    total[\"confusion_matrix\"] +=  result[3]\n",
        "    total[\"loss_curve_data\"].append(loss_curve_epochs)"
      ]
    },
    {
      "cell_type": "markdown",
      "metadata": {
        "id": "ZsxkprxxO3z2"
      },
      "source": [
        "**Overall Performance of the Model**"
      ]
    },
    {
      "cell_type": "code",
      "execution_count": null,
      "metadata": {
        "colab": {
          "base_uri": "https://localhost:8080/"
        },
        "id": "O7-_DDkuEjQE",
        "outputId": "6d0f6fa6-4caf-4fac-ec64-e74c85af69e6"
      },
      "outputs": [
        {
          "name": "stdout",
          "output_type": "stream",
          "text": [
            "Dataset Correct : 5523\n",
            "Dataset loss : 0.2525857490152651\n",
            "Total Dataset : 5620\n",
            "Accuracy : 98.27 %\n",
            "Precision: 98.29 %\n",
            "F1: 98.28 %\n"
          ]
        }
      ],
      "source": [
        "precision = torch.diag(total[\"confusion_matrix\"]) / total[\"confusion_matrix\"].sum(axis=0)\n",
        "f1_score = 2 * torch.diag(total[\"confusion_matrix\"]) / (total[\"confusion_matrix\"].sum(axis=0) + total[\"confusion_matrix\"].sum(axis=1))\n",
        "\n",
        "print(f\"Dataset Correct : {total['correct']}\")\n",
        "print(f\"Dataset loss : {total['loss']}\")\n",
        "print(f\"Total Dataset : {total['dataset']}\")\n",
        "print(f\"Accuracy : {(total['correct']/total['dataset']) * 100:.2f} %\")\n",
        "print(f\"Precision: {precision.mean()* 100:.2f} %\")\n",
        "print(f\"F1: {f1_score.mean()* 100:.2f} %\")\n"
      ]
    },
    {
      "cell_type": "markdown",
      "metadata": {
        "id": "Pfbt02WARBzU"
      },
      "source": [
        "**Consfusion Matrix**\n",
        "\n",
        "\n",
        "In addition to high accuracy, confusion matrix shows the major of the samples were correctly classified."
      ]
    },
    {
      "cell_type": "code",
      "execution_count": null,
      "metadata": {
        "colab": {
          "base_uri": "https://localhost:8080/",
          "height": 614
        },
        "id": "PeUGsI5wO982",
        "outputId": "1a7069ad-9da1-4f22-f666-585116150c83"
      },
      "outputs": [
        {
          "data": {
            "image/png": "[encoded data removed]",
            "text/plain": [
              "<Figure size 2000x800 with 2 Axes>"
            ]
          },
          "metadata": {},
          "output_type": "display_data"
        }
      ],
      "source": [
        "plt.figure(figsize=(20, 8))\n",
        "\n",
        "plt.subplot(1, 2, 1)\n",
        "sns.heatmap(total[\"confusion_matrix\"].numpy(), annot=True, fmt='g', cmap='Blues')\n",
        "plt.ylabel('True labels')\n",
        "plt.title('Confusion Matrix')\n",
        "plt.tight_layout()\n",
        "plt.show()"
      ]
    },
    {
      "cell_type": "markdown",
      "metadata": {
        "id": "7z2_rlnvSOSH"
      },
      "source": [
        "**Loss Curve**"
      ]
    },
    {
      "cell_type": "code",
      "execution_count": null,
      "metadata": {
        "colab": {
          "base_uri": "https://localhost:8080/",
          "height": 472
        },
        "id": "djYIsmrkSNcd",
        "outputId": "5aa5cc5e-a997-4315-ca23-1ff61c9a6a12"
      },
      "outputs": [
        {
          "data": {
            "image/png": "[encoded data removed]",
            "text/plain": [
              "<Figure size 640x480 with 1 Axes>"
            ]
          },
          "metadata": {},
          "output_type": "display_data"
        }
      ],
      "source": [
        "# Plotting the loss curve for each fold\n",
        "for i, losses in enumerate(total[\"loss_curve_data\"]):\n",
        "    plt.plot(range(1, len(losses) + 1), losses, label=f'Fold {i+1}')\n",
        "\n",
        "plt.xlabel('Epochs')\n",
        "plt.ylabel('Average Loss')\n",
        "plt.title('Loss Curve over Epochs')\n",
        "plt.legend()\n",
        "plt.show()"
      ]
    }
  ],
  "metadata": {
    "accelerator": "TPU",
    "colab": {
      "gpuType": "V28",
      "provenance": []
    },
    "kernelspec": {
      "display_name": "Python 3",
      "name": "python3"
    },
    "language_info": {
      "name": "python"
    }
  },
  "nbformat": 4,
  "nbformat_minor": 0
}
